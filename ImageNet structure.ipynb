{
 "cells": [
  {
   "cell_type": "code",
   "execution_count": 1,
   "metadata": {},
   "outputs": [],
   "source": [
    "%load_ext autoreload\n",
    "%autoreload 2"
   ]
  },
  {
   "cell_type": "code",
   "execution_count": 2,
   "metadata": {},
   "outputs": [],
   "source": [
    "import xmltodict\n",
    "import json\n",
    "from collections import defaultdict\n",
    "import plotly.express as px\n",
    " \n",
    "# wget http://www.image-net.org/api/xml/structure_released.xml\n",
    "with open('structure_released.xml') as f:\n",
    "    xml = f.read()\n",
    "    struct = xmltodict.parse(xml)\n",
    "root = struct['ImageNetStructure']['synset']"
   ]
  },
  {
   "cell_type": "code",
   "execution_count": 3,
   "metadata": {},
   "outputs": [],
   "source": [
    "# wget http://www.image-net.org/api/xml/ReleaseStatus.xml\n",
    "with open('ReleaseStatus.xml') as f:\n",
    "    xml = f.read()\n",
    "    status = xmltodict.parse(xml)"
   ]
  },
  {
   "cell_type": "code",
   "execution_count": 4,
   "metadata": {},
   "outputs": [],
   "source": [
    "status_list = status['ReleaseStatus']['images']['synsetInfos']['synset']\n",
    "wnid2num = {} \n",
    "for i in status_list:\n",
    "    if i['@version'] == 'winter11':\n",
    "        wnid2num.update({i['@wnid']: int(i['@numImages'])})"
   ]
  },
  {
   "cell_type": "code",
   "execution_count": 5,
   "metadata": {},
   "outputs": [],
   "source": [
    "class Node(object):\n",
    "    def __init__(self, node):\n",
    "        self._node = node\n",
    "        self.wnid = node['@wnid']\n",
    "        self.gloss = node['@gloss']\n",
    "        self.name = node['@words']\n",
    "        self.numImg = wnid2num.get(self.wnid, 0)\n",
    "        self._set_children_node()\n",
    "        \n",
    "    def _set_children_node(self):\n",
    "        self.children = []\n",
    "        if 'synset' in self._node:\n",
    "            children = self._node['synset']\n",
    "            if not isinstance(children, list):\n",
    "                children = [children]\n",
    "            for child in children:\n",
    "                child = Node(child)\n",
    "                if child.numImg > 0:\n",
    "                    self.children.append(child)\n",
    "            \n",
    "        self.num_children = len(self.children)\n",
    "            \n",
    "    def is_leaf(self):\n",
    "        return self.num_children == 0\n",
    "        \n",
    "    def __repr__(self):\n",
    "        return self.name"
   ]
  },
  {
   "cell_type": "code",
   "execution_count": 6,
   "metadata": {},
   "outputs": [],
   "source": [
    "class Tree(object):\n",
    "    def __init__(self, root):\n",
    "        self.root = root\n",
    "    \n",
    "    def find_node(self, name, node=None):\n",
    "        node = self.root if node is None else node\n",
    "        \n",
    "        if node and node.name == name:\n",
    "            return node\n",
    "        if not node.is_leaf():\n",
    "            for child in node.children:\n",
    "                node = self.find_node(name, child)\n",
    "                if node and node.name == name:\n",
    "                    return node\n",
    "        \n",
    "    def find_all_children(self, node=None):\n",
    "        node = self.root if node is None else node\n",
    "        children = []\n",
    "        \n",
    "        def _dfs(node):\n",
    "            children.append(node)\n",
    "            if not node.is_leaf():\n",
    "                for child in node.children:\n",
    "                    node = _dfs(child)\n",
    "                   \n",
    "        _dfs(node)\n",
    "        return children\n",
    "\n",
    "    def find_parents(self, children):\n",
    "        \n",
    "        children_to_parent = {}\n",
    "        \n",
    "        def _dfs(node, parent_node):\n",
    "            if node in children:\n",
    "                children_to_parent.update({node: parent_node})\n",
    "                \n",
    "            if not node.is_leaf():\n",
    "                for child in node.children:\n",
    "                    _dfs(child, node)\n",
    "        \n",
    "        _dfs(self.root, None)\n",
    "        return [children_to_parent[c] for c in children]\n",
    "                    \n",
    "    def find_max_depth(self, node=None):\n",
    "        node = self.root if node is None else node\n",
    "        depth = []\n",
    "        \n",
    "        def _dfs(node, cur_depth):\n",
    "            cur_depth += 1\n",
    "            depth.append(cur_depth)\n",
    "                \n",
    "            if not node.is_leaf():\n",
    "                for child in node.children:\n",
    "                    _dfs(child, cur_depth)\n",
    "        \n",
    "        _dfs(node, cur_depth=0)\n",
    "        return max(depth)"
   ]
  },
  {
   "cell_type": "code",
   "execution_count": 7,
   "metadata": {},
   "outputs": [],
   "source": [
    "# Build tree\n",
    "root_node = Node(root)\n",
    "tree = Tree(root_node)"
   ]
  },
  {
   "cell_type": "code",
   "execution_count": 23,
   "metadata": {},
   "outputs": [
    {
     "data": {
      "application/vnd.plotly.v1+json": {
       "config": {
        "plotlyServerURL": "https://plot.ly"
       },
       "data": [
        {
         "domain": {
          "x": [
           0,
           1
          ],
          "y": [
           0,
           1
          ]
         },
         "hoverlabel": {
          "namelength": 0
         },
         "hovertemplate": "label=%{label}<br>value=%{value}<br>parent=%{parent}",
         "labels": [
          "beetle",
          "tiger beetle",
          "ladybug, ladybeetle, lady beetle, ladybird, ladybird beetle",
          "two-spotted ladybug, Adalia bipunctata",
          "Mexican bean beetle, bean beetle, Epilachna varivestis",
          "Hippodamia convergens",
          "vedalia, Rodolia cardinalis",
          "ground beetle, carabid beetle",
          "bombardier beetle",
          "calosoma",
          "searcher, searcher beetle, Calosoma scrutator",
          "firefly, lightning bug",
          "glowworm",
          "long-horned beetle, longicorn, longicorn beetle",
          "sawyer, sawyer beetle",
          "pine sawyer",
          "leaf beetle, chrysomelid",
          "flea beetle",
          "Colorado potato beetle, Colorado beetle, potato bug, potato beetle, Leptinotarsa decemlineata",
          "carpet beetle, carpet bug",
          "buffalo carpet beetle, Anthrenus scrophulariae",
          "black carpet beetle",
          "clerid beetle, clerid",
          "bee beetle",
          "lamellicorn beetle",
          "scarabaeid beetle, scarabaeid, scarabaean",
          "dung beetle",
          "scarab, scarabaeus, Scarabaeus sacer",
          "tumblebug",
          "dorbeetle",
          "June beetle, June bug, May bug, May beetle",
          "green June beetle, figeater",
          "Japanese beetle, Popillia japonica",
          "Oriental beetle, Asiatic beetle, Anomala orientalis",
          "rhinoceros beetle",
          "melolonthid beetle",
          "cockchafer, May bug, May beetle, Melolontha melolontha",
          "rose chafer, rose bug, Macrodactylus subspinosus",
          "rose chafer, rose beetle, Cetonia aurata",
          "stag beetle",
          "elaterid beetle, elater, elaterid",
          "click beetle, skipjack, snapping beetle",
          "firefly, fire beetle, Pyrophorus noctiluca",
          "water beetle",
          "whirligig beetle",
          "deathwatch beetle, deathwatch, Xestobium rufovillosum",
          "weevil",
          "snout beetle",
          "boll weevil, Anthonomus grandis",
          "darkling beetle, darkling groung beetle, tenebrionid",
          "flour beetle, flour weevil",
          "seed beetle, seed weevil",
          "pea weevil, Bruchus pisorum",
          "bean weevil, Acanthoscelides obtectus",
          "rice weevil, black weevil, Sitophylus oryzae",
          "blister beetle, meloid",
          "oil beetle",
          "Spanish fly",
          "bark beetle",
          "Dutch-elm beetle, Scolytus multistriatus",
          "spruce bark beetle, Dendroctonus rufipennis",
          "rove beetle",
          "Asian longhorned beetle, Anoplophora glabripennis"
         ],
         "name": "",
         "parents": [
          "insect",
          "beetle",
          "beetle",
          "ladybug, ladybeetle, lady beetle, ladybird, ladybird beetle",
          "ladybug, ladybeetle, lady beetle, ladybird, ladybird beetle",
          "ladybug, ladybeetle, lady beetle, ladybird, ladybird beetle",
          "ladybug, ladybeetle, lady beetle, ladybird, ladybird beetle",
          "beetle",
          "ground beetle, carabid beetle",
          "ground beetle, carabid beetle",
          "calosoma",
          "beetle",
          "firefly, lightning bug",
          "beetle",
          "long-horned beetle, longicorn, longicorn beetle",
          "sawyer, sawyer beetle",
          "beetle",
          "leaf beetle, chrysomelid",
          "leaf beetle, chrysomelid",
          "beetle",
          "carpet beetle, carpet bug",
          "carpet beetle, carpet bug",
          "beetle",
          "clerid beetle, clerid",
          "beetle",
          "lamellicorn beetle",
          "scarabaeid beetle, scarabaeid, scarabaean",
          "dung beetle",
          "dung beetle",
          "dung beetle",
          "scarabaeid beetle, scarabaeid, scarabaean",
          "June beetle, June bug, May bug, May beetle",
          "scarabaeid beetle, scarabaeid, scarabaean",
          "scarabaeid beetle, scarabaeid, scarabaean",
          "scarabaeid beetle, scarabaeid, scarabaean",
          "scarabaeid beetle, scarabaeid, scarabaean",
          "melolonthid beetle",
          "melolonthid beetle",
          "scarabaeid beetle, scarabaeid, scarabaean",
          "lamellicorn beetle",
          "beetle",
          "elaterid beetle, elater, elaterid",
          "elaterid beetle, elater, elaterid",
          "beetle",
          "beetle",
          "beetle",
          "beetle",
          "weevil",
          "weevil",
          "weevil",
          "darkling beetle, darkling groung beetle, tenebrionid",
          "weevil",
          "seed beetle, seed weevil",
          "seed beetle, seed weevil",
          "weevil",
          "beetle",
          "blister beetle, meloid",
          "blister beetle, meloid",
          "beetle",
          "bark beetle",
          "bark beetle",
          "beetle",
          "beetle"
         ],
         "type": "treemap",
         "values": [
          "1488",
          "1168",
          "1923",
          "757",
          "293",
          "1096",
          "1191",
          "1077",
          "218",
          "669",
          "370",
          "987",
          "231",
          "1007",
          "881",
          "205",
          "1313",
          "709",
          "1113",
          "388",
          "23",
          "65",
          "29",
          "177",
          "11",
          "48",
          "1138",
          "926",
          "271",
          "335",
          "939",
          "543",
          "1284",
          "411",
          "1216",
          "11",
          "1195",
          "652",
          "1145",
          "1153",
          "920",
          "1046",
          "473",
          "321",
          "63",
          "366",
          "1329",
          "368",
          "143",
          "463",
          "526",
          "215",
          "226",
          "34",
          "193",
          "321",
          "297",
          "3",
          "211",
          "31",
          "144",
          "972",
          "794"
         ]
        }
       ],
       "layout": {
        "legend": {
         "tracegroupgap": 0
        },
        "template": {
         "data": {
          "bar": [
           {
            "error_x": {
             "color": "#2a3f5f"
            },
            "error_y": {
             "color": "#2a3f5f"
            },
            "marker": {
             "line": {
              "color": "#E5ECF6",
              "width": 0.5
             }
            },
            "type": "bar"
           }
          ],
          "barpolar": [
           {
            "marker": {
             "line": {
              "color": "#E5ECF6",
              "width": 0.5
             }
            },
            "type": "barpolar"
           }
          ],
          "carpet": [
           {
            "aaxis": {
             "endlinecolor": "#2a3f5f",
             "gridcolor": "white",
             "linecolor": "white",
             "minorgridcolor": "white",
             "startlinecolor": "#2a3f5f"
            },
            "baxis": {
             "endlinecolor": "#2a3f5f",
             "gridcolor": "white",
             "linecolor": "white",
             "minorgridcolor": "white",
             "startlinecolor": "#2a3f5f"
            },
            "type": "carpet"
           }
          ],
          "choropleth": [
           {
            "colorbar": {
             "outlinewidth": 0,
             "ticks": ""
            },
            "type": "choropleth"
           }
          ],
          "contour": [
           {
            "colorbar": {
             "outlinewidth": 0,
             "ticks": ""
            },
            "colorscale": [
             [
              0,
              "#0d0887"
             ],
             [
              0.1111111111111111,
              "#46039f"
             ],
             [
              0.2222222222222222,
              "#7201a8"
             ],
             [
              0.3333333333333333,
              "#9c179e"
             ],
             [
              0.4444444444444444,
              "#bd3786"
             ],
             [
              0.5555555555555556,
              "#d8576b"
             ],
             [
              0.6666666666666666,
              "#ed7953"
             ],
             [
              0.7777777777777778,
              "#fb9f3a"
             ],
             [
              0.8888888888888888,
              "#fdca26"
             ],
             [
              1,
              "#f0f921"
             ]
            ],
            "type": "contour"
           }
          ],
          "contourcarpet": [
           {
            "colorbar": {
             "outlinewidth": 0,
             "ticks": ""
            },
            "type": "contourcarpet"
           }
          ],
          "heatmap": [
           {
            "colorbar": {
             "outlinewidth": 0,
             "ticks": ""
            },
            "colorscale": [
             [
              0,
              "#0d0887"
             ],
             [
              0.1111111111111111,
              "#46039f"
             ],
             [
              0.2222222222222222,
              "#7201a8"
             ],
             [
              0.3333333333333333,
              "#9c179e"
             ],
             [
              0.4444444444444444,
              "#bd3786"
             ],
             [
              0.5555555555555556,
              "#d8576b"
             ],
             [
              0.6666666666666666,
              "#ed7953"
             ],
             [
              0.7777777777777778,
              "#fb9f3a"
             ],
             [
              0.8888888888888888,
              "#fdca26"
             ],
             [
              1,
              "#f0f921"
             ]
            ],
            "type": "heatmap"
           }
          ],
          "heatmapgl": [
           {
            "colorbar": {
             "outlinewidth": 0,
             "ticks": ""
            },
            "colorscale": [
             [
              0,
              "#0d0887"
             ],
             [
              0.1111111111111111,
              "#46039f"
             ],
             [
              0.2222222222222222,
              "#7201a8"
             ],
             [
              0.3333333333333333,
              "#9c179e"
             ],
             [
              0.4444444444444444,
              "#bd3786"
             ],
             [
              0.5555555555555556,
              "#d8576b"
             ],
             [
              0.6666666666666666,
              "#ed7953"
             ],
             [
              0.7777777777777778,
              "#fb9f3a"
             ],
             [
              0.8888888888888888,
              "#fdca26"
             ],
             [
              1,
              "#f0f921"
             ]
            ],
            "type": "heatmapgl"
           }
          ],
          "histogram": [
           {
            "marker": {
             "colorbar": {
              "outlinewidth": 0,
              "ticks": ""
             }
            },
            "type": "histogram"
           }
          ],
          "histogram2d": [
           {
            "colorbar": {
             "outlinewidth": 0,
             "ticks": ""
            },
            "colorscale": [
             [
              0,
              "#0d0887"
             ],
             [
              0.1111111111111111,
              "#46039f"
             ],
             [
              0.2222222222222222,
              "#7201a8"
             ],
             [
              0.3333333333333333,
              "#9c179e"
             ],
             [
              0.4444444444444444,
              "#bd3786"
             ],
             [
              0.5555555555555556,
              "#d8576b"
             ],
             [
              0.6666666666666666,
              "#ed7953"
             ],
             [
              0.7777777777777778,
              "#fb9f3a"
             ],
             [
              0.8888888888888888,
              "#fdca26"
             ],
             [
              1,
              "#f0f921"
             ]
            ],
            "type": "histogram2d"
           }
          ],
          "histogram2dcontour": [
           {
            "colorbar": {
             "outlinewidth": 0,
             "ticks": ""
            },
            "colorscale": [
             [
              0,
              "#0d0887"
             ],
             [
              0.1111111111111111,
              "#46039f"
             ],
             [
              0.2222222222222222,
              "#7201a8"
             ],
             [
              0.3333333333333333,
              "#9c179e"
             ],
             [
              0.4444444444444444,
              "#bd3786"
             ],
             [
              0.5555555555555556,
              "#d8576b"
             ],
             [
              0.6666666666666666,
              "#ed7953"
             ],
             [
              0.7777777777777778,
              "#fb9f3a"
             ],
             [
              0.8888888888888888,
              "#fdca26"
             ],
             [
              1,
              "#f0f921"
             ]
            ],
            "type": "histogram2dcontour"
           }
          ],
          "mesh3d": [
           {
            "colorbar": {
             "outlinewidth": 0,
             "ticks": ""
            },
            "type": "mesh3d"
           }
          ],
          "parcoords": [
           {
            "line": {
             "colorbar": {
              "outlinewidth": 0,
              "ticks": ""
             }
            },
            "type": "parcoords"
           }
          ],
          "pie": [
           {
            "automargin": true,
            "type": "pie"
           }
          ],
          "scatter": [
           {
            "marker": {
             "colorbar": {
              "outlinewidth": 0,
              "ticks": ""
             }
            },
            "type": "scatter"
           }
          ],
          "scatter3d": [
           {
            "line": {
             "colorbar": {
              "outlinewidth": 0,
              "ticks": ""
             }
            },
            "marker": {
             "colorbar": {
              "outlinewidth": 0,
              "ticks": ""
             }
            },
            "type": "scatter3d"
           }
          ],
          "scattercarpet": [
           {
            "marker": {
             "colorbar": {
              "outlinewidth": 0,
              "ticks": ""
             }
            },
            "type": "scattercarpet"
           }
          ],
          "scattergeo": [
           {
            "marker": {
             "colorbar": {
              "outlinewidth": 0,
              "ticks": ""
             }
            },
            "type": "scattergeo"
           }
          ],
          "scattergl": [
           {
            "marker": {
             "colorbar": {
              "outlinewidth": 0,
              "ticks": ""
             }
            },
            "type": "scattergl"
           }
          ],
          "scattermapbox": [
           {
            "marker": {
             "colorbar": {
              "outlinewidth": 0,
              "ticks": ""
             }
            },
            "type": "scattermapbox"
           }
          ],
          "scatterpolar": [
           {
            "marker": {
             "colorbar": {
              "outlinewidth": 0,
              "ticks": ""
             }
            },
            "type": "scatterpolar"
           }
          ],
          "scatterpolargl": [
           {
            "marker": {
             "colorbar": {
              "outlinewidth": 0,
              "ticks": ""
             }
            },
            "type": "scatterpolargl"
           }
          ],
          "scatterternary": [
           {
            "marker": {
             "colorbar": {
              "outlinewidth": 0,
              "ticks": ""
             }
            },
            "type": "scatterternary"
           }
          ],
          "surface": [
           {
            "colorbar": {
             "outlinewidth": 0,
             "ticks": ""
            },
            "colorscale": [
             [
              0,
              "#0d0887"
             ],
             [
              0.1111111111111111,
              "#46039f"
             ],
             [
              0.2222222222222222,
              "#7201a8"
             ],
             [
              0.3333333333333333,
              "#9c179e"
             ],
             [
              0.4444444444444444,
              "#bd3786"
             ],
             [
              0.5555555555555556,
              "#d8576b"
             ],
             [
              0.6666666666666666,
              "#ed7953"
             ],
             [
              0.7777777777777778,
              "#fb9f3a"
             ],
             [
              0.8888888888888888,
              "#fdca26"
             ],
             [
              1,
              "#f0f921"
             ]
            ],
            "type": "surface"
           }
          ],
          "table": [
           {
            "cells": {
             "fill": {
              "color": "#EBF0F8"
             },
             "line": {
              "color": "white"
             }
            },
            "header": {
             "fill": {
              "color": "#C8D4E3"
             },
             "line": {
              "color": "white"
             }
            },
            "type": "table"
           }
          ]
         },
         "layout": {
          "annotationdefaults": {
           "arrowcolor": "#2a3f5f",
           "arrowhead": 0,
           "arrowwidth": 1
          },
          "coloraxis": {
           "colorbar": {
            "outlinewidth": 0,
            "ticks": ""
           }
          },
          "colorscale": {
           "diverging": [
            [
             0,
             "#8e0152"
            ],
            [
             0.1,
             "#c51b7d"
            ],
            [
             0.2,
             "#de77ae"
            ],
            [
             0.3,
             "#f1b6da"
            ],
            [
             0.4,
             "#fde0ef"
            ],
            [
             0.5,
             "#f7f7f7"
            ],
            [
             0.6,
             "#e6f5d0"
            ],
            [
             0.7,
             "#b8e186"
            ],
            [
             0.8,
             "#7fbc41"
            ],
            [
             0.9,
             "#4d9221"
            ],
            [
             1,
             "#276419"
            ]
           ],
           "sequential": [
            [
             0,
             "#0d0887"
            ],
            [
             0.1111111111111111,
             "#46039f"
            ],
            [
             0.2222222222222222,
             "#7201a8"
            ],
            [
             0.3333333333333333,
             "#9c179e"
            ],
            [
             0.4444444444444444,
             "#bd3786"
            ],
            [
             0.5555555555555556,
             "#d8576b"
            ],
            [
             0.6666666666666666,
             "#ed7953"
            ],
            [
             0.7777777777777778,
             "#fb9f3a"
            ],
            [
             0.8888888888888888,
             "#fdca26"
            ],
            [
             1,
             "#f0f921"
            ]
           ],
           "sequentialminus": [
            [
             0,
             "#0d0887"
            ],
            [
             0.1111111111111111,
             "#46039f"
            ],
            [
             0.2222222222222222,
             "#7201a8"
            ],
            [
             0.3333333333333333,
             "#9c179e"
            ],
            [
             0.4444444444444444,
             "#bd3786"
            ],
            [
             0.5555555555555556,
             "#d8576b"
            ],
            [
             0.6666666666666666,
             "#ed7953"
            ],
            [
             0.7777777777777778,
             "#fb9f3a"
            ],
            [
             0.8888888888888888,
             "#fdca26"
            ],
            [
             1,
             "#f0f921"
            ]
           ]
          },
          "colorway": [
           "#636efa",
           "#EF553B",
           "#00cc96",
           "#ab63fa",
           "#FFA15A",
           "#19d3f3",
           "#FF6692",
           "#B6E880",
           "#FF97FF",
           "#FECB52"
          ],
          "font": {
           "color": "#2a3f5f"
          },
          "geo": {
           "bgcolor": "white",
           "lakecolor": "white",
           "landcolor": "#E5ECF6",
           "showlakes": true,
           "showland": true,
           "subunitcolor": "white"
          },
          "hoverlabel": {
           "align": "left"
          },
          "hovermode": "closest",
          "mapbox": {
           "style": "light"
          },
          "paper_bgcolor": "white",
          "plot_bgcolor": "#E5ECF6",
          "polar": {
           "angularaxis": {
            "gridcolor": "white",
            "linecolor": "white",
            "ticks": ""
           },
           "bgcolor": "#E5ECF6",
           "radialaxis": {
            "gridcolor": "white",
            "linecolor": "white",
            "ticks": ""
           }
          },
          "scene": {
           "xaxis": {
            "backgroundcolor": "#E5ECF6",
            "gridcolor": "white",
            "gridwidth": 2,
            "linecolor": "white",
            "showbackground": true,
            "ticks": "",
            "zerolinecolor": "white"
           },
           "yaxis": {
            "backgroundcolor": "#E5ECF6",
            "gridcolor": "white",
            "gridwidth": 2,
            "linecolor": "white",
            "showbackground": true,
            "ticks": "",
            "zerolinecolor": "white"
           },
           "zaxis": {
            "backgroundcolor": "#E5ECF6",
            "gridcolor": "white",
            "gridwidth": 2,
            "linecolor": "white",
            "showbackground": true,
            "ticks": "",
            "zerolinecolor": "white"
           }
          },
          "shapedefaults": {
           "line": {
            "color": "#2a3f5f"
           }
          },
          "ternary": {
           "aaxis": {
            "gridcolor": "white",
            "linecolor": "white",
            "ticks": ""
           },
           "baxis": {
            "gridcolor": "white",
            "linecolor": "white",
            "ticks": ""
           },
           "bgcolor": "#E5ECF6",
           "caxis": {
            "gridcolor": "white",
            "linecolor": "white",
            "ticks": ""
           }
          },
          "title": {
           "x": 0.05
          },
          "xaxis": {
           "automargin": true,
           "gridcolor": "white",
           "linecolor": "white",
           "ticks": "",
           "title": {
            "standoff": 15
           },
           "zerolinecolor": "white",
           "zerolinewidth": 2
          },
          "yaxis": {
           "automargin": true,
           "gridcolor": "white",
           "linecolor": "white",
           "ticks": "",
           "title": {
            "standoff": 15
           },
           "zerolinecolor": "white",
           "zerolinewidth": 2
          }
         }
        },
        "title": {
         "text": "Total nodes: 63, max depth: 5, total/max/min/avgImg: 38115/1923/3/605"
        }
       }
      },
      "text/html": [
       "<div>\n",
       "        \n",
       "        \n",
       "            <div id=\"898bcbb2-9d85-474c-baab-671d79ea2d20\" class=\"plotly-graph-div\" style=\"height:525px; width:100%;\"></div>\n",
       "            <script type=\"text/javascript\">\n",
       "                require([\"plotly\"], function(Plotly) {\n",
       "                    window.PLOTLYENV=window.PLOTLYENV || {};\n",
       "                    \n",
       "                if (document.getElementById(\"898bcbb2-9d85-474c-baab-671d79ea2d20\")) {\n",
       "                    Plotly.newPlot(\n",
       "                        '898bcbb2-9d85-474c-baab-671d79ea2d20',\n",
       "                        [{\"domain\": {\"x\": [0.0, 1.0], \"y\": [0.0, 1.0]}, \"hoverlabel\": {\"namelength\": 0}, \"hovertemplate\": \"label=%{label}<br>value=%{value}<br>parent=%{parent}\", \"labels\": [\"beetle\", \"tiger beetle\", \"ladybug, ladybeetle, lady beetle, ladybird, ladybird beetle\", \"two-spotted ladybug, Adalia bipunctata\", \"Mexican bean beetle, bean beetle, Epilachna varivestis\", \"Hippodamia convergens\", \"vedalia, Rodolia cardinalis\", \"ground beetle, carabid beetle\", \"bombardier beetle\", \"calosoma\", \"searcher, searcher beetle, Calosoma scrutator\", \"firefly, lightning bug\", \"glowworm\", \"long-horned beetle, longicorn, longicorn beetle\", \"sawyer, sawyer beetle\", \"pine sawyer\", \"leaf beetle, chrysomelid\", \"flea beetle\", \"Colorado potato beetle, Colorado beetle, potato bug, potato beetle, Leptinotarsa decemlineata\", \"carpet beetle, carpet bug\", \"buffalo carpet beetle, Anthrenus scrophulariae\", \"black carpet beetle\", \"clerid beetle, clerid\", \"bee beetle\", \"lamellicorn beetle\", \"scarabaeid beetle, scarabaeid, scarabaean\", \"dung beetle\", \"scarab, scarabaeus, Scarabaeus sacer\", \"tumblebug\", \"dorbeetle\", \"June beetle, June bug, May bug, May beetle\", \"green June beetle, figeater\", \"Japanese beetle, Popillia japonica\", \"Oriental beetle, Asiatic beetle, Anomala orientalis\", \"rhinoceros beetle\", \"melolonthid beetle\", \"cockchafer, May bug, May beetle, Melolontha melolontha\", \"rose chafer, rose bug, Macrodactylus subspinosus\", \"rose chafer, rose beetle, Cetonia aurata\", \"stag beetle\", \"elaterid beetle, elater, elaterid\", \"click beetle, skipjack, snapping beetle\", \"firefly, fire beetle, Pyrophorus noctiluca\", \"water beetle\", \"whirligig beetle\", \"deathwatch beetle, deathwatch, Xestobium rufovillosum\", \"weevil\", \"snout beetle\", \"boll weevil, Anthonomus grandis\", \"darkling beetle, darkling groung beetle, tenebrionid\", \"flour beetle, flour weevil\", \"seed beetle, seed weevil\", \"pea weevil, Bruchus pisorum\", \"bean weevil, Acanthoscelides obtectus\", \"rice weevil, black weevil, Sitophylus oryzae\", \"blister beetle, meloid\", \"oil beetle\", \"Spanish fly\", \"bark beetle\", \"Dutch-elm beetle, Scolytus multistriatus\", \"spruce bark beetle, Dendroctonus rufipennis\", \"rove beetle\", \"Asian longhorned beetle, Anoplophora glabripennis\"], \"name\": \"\", \"parents\": [\"insect\", \"beetle\", \"beetle\", \"ladybug, ladybeetle, lady beetle, ladybird, ladybird beetle\", \"ladybug, ladybeetle, lady beetle, ladybird, ladybird beetle\", \"ladybug, ladybeetle, lady beetle, ladybird, ladybird beetle\", \"ladybug, ladybeetle, lady beetle, ladybird, ladybird beetle\", \"beetle\", \"ground beetle, carabid beetle\", \"ground beetle, carabid beetle\", \"calosoma\", \"beetle\", \"firefly, lightning bug\", \"beetle\", \"long-horned beetle, longicorn, longicorn beetle\", \"sawyer, sawyer beetle\", \"beetle\", \"leaf beetle, chrysomelid\", \"leaf beetle, chrysomelid\", \"beetle\", \"carpet beetle, carpet bug\", \"carpet beetle, carpet bug\", \"beetle\", \"clerid beetle, clerid\", \"beetle\", \"lamellicorn beetle\", \"scarabaeid beetle, scarabaeid, scarabaean\", \"dung beetle\", \"dung beetle\", \"dung beetle\", \"scarabaeid beetle, scarabaeid, scarabaean\", \"June beetle, June bug, May bug, May beetle\", \"scarabaeid beetle, scarabaeid, scarabaean\", \"scarabaeid beetle, scarabaeid, scarabaean\", \"scarabaeid beetle, scarabaeid, scarabaean\", \"scarabaeid beetle, scarabaeid, scarabaean\", \"melolonthid beetle\", \"melolonthid beetle\", \"scarabaeid beetle, scarabaeid, scarabaean\", \"lamellicorn beetle\", \"beetle\", \"elaterid beetle, elater, elaterid\", \"elaterid beetle, elater, elaterid\", \"beetle\", \"beetle\", \"beetle\", \"beetle\", \"weevil\", \"weevil\", \"weevil\", \"darkling beetle, darkling groung beetle, tenebrionid\", \"weevil\", \"seed beetle, seed weevil\", \"seed beetle, seed weevil\", \"weevil\", \"beetle\", \"blister beetle, meloid\", \"blister beetle, meloid\", \"beetle\", \"bark beetle\", \"bark beetle\", \"beetle\", \"beetle\"], \"type\": \"treemap\", \"values\": [\"1488\", \"1168\", \"1923\", \"757\", \"293\", \"1096\", \"1191\", \"1077\", \"218\", \"669\", \"370\", \"987\", \"231\", \"1007\", \"881\", \"205\", \"1313\", \"709\", \"1113\", \"388\", \"23\", \"65\", \"29\", \"177\", \"11\", \"48\", \"1138\", \"926\", \"271\", \"335\", \"939\", \"543\", \"1284\", \"411\", \"1216\", \"11\", \"1195\", \"652\", \"1145\", \"1153\", \"920\", \"1046\", \"473\", \"321\", \"63\", \"366\", \"1329\", \"368\", \"143\", \"463\", \"526\", \"215\", \"226\", \"34\", \"193\", \"321\", \"297\", \"3\", \"211\", \"31\", \"144\", \"972\", \"794\"]}],\n",
       "                        {\"legend\": {\"tracegroupgap\": 0}, \"template\": {\"data\": {\"bar\": [{\"error_x\": {\"color\": \"#2a3f5f\"}, \"error_y\": {\"color\": \"#2a3f5f\"}, \"marker\": {\"line\": {\"color\": \"#E5ECF6\", \"width\": 0.5}}, \"type\": \"bar\"}], \"barpolar\": [{\"marker\": {\"line\": {\"color\": \"#E5ECF6\", \"width\": 0.5}}, \"type\": \"barpolar\"}], \"carpet\": [{\"aaxis\": {\"endlinecolor\": \"#2a3f5f\", \"gridcolor\": \"white\", \"linecolor\": \"white\", \"minorgridcolor\": \"white\", \"startlinecolor\": \"#2a3f5f\"}, \"baxis\": {\"endlinecolor\": \"#2a3f5f\", \"gridcolor\": \"white\", \"linecolor\": \"white\", \"minorgridcolor\": \"white\", \"startlinecolor\": \"#2a3f5f\"}, \"type\": \"carpet\"}], \"choropleth\": [{\"colorbar\": {\"outlinewidth\": 0, \"ticks\": \"\"}, \"type\": \"choropleth\"}], \"contour\": [{\"colorbar\": {\"outlinewidth\": 0, \"ticks\": \"\"}, \"colorscale\": [[0.0, \"#0d0887\"], [0.1111111111111111, \"#46039f\"], [0.2222222222222222, \"#7201a8\"], [0.3333333333333333, \"#9c179e\"], [0.4444444444444444, \"#bd3786\"], [0.5555555555555556, \"#d8576b\"], [0.6666666666666666, \"#ed7953\"], [0.7777777777777778, \"#fb9f3a\"], [0.8888888888888888, \"#fdca26\"], [1.0, \"#f0f921\"]], \"type\": \"contour\"}], \"contourcarpet\": [{\"colorbar\": {\"outlinewidth\": 0, \"ticks\": \"\"}, \"type\": \"contourcarpet\"}], \"heatmap\": [{\"colorbar\": {\"outlinewidth\": 0, \"ticks\": \"\"}, \"colorscale\": [[0.0, \"#0d0887\"], [0.1111111111111111, \"#46039f\"], [0.2222222222222222, \"#7201a8\"], [0.3333333333333333, \"#9c179e\"], [0.4444444444444444, \"#bd3786\"], [0.5555555555555556, \"#d8576b\"], [0.6666666666666666, \"#ed7953\"], [0.7777777777777778, \"#fb9f3a\"], [0.8888888888888888, \"#fdca26\"], [1.0, \"#f0f921\"]], \"type\": \"heatmap\"}], \"heatmapgl\": [{\"colorbar\": {\"outlinewidth\": 0, \"ticks\": \"\"}, \"colorscale\": [[0.0, \"#0d0887\"], [0.1111111111111111, \"#46039f\"], [0.2222222222222222, \"#7201a8\"], [0.3333333333333333, \"#9c179e\"], [0.4444444444444444, \"#bd3786\"], [0.5555555555555556, \"#d8576b\"], [0.6666666666666666, \"#ed7953\"], [0.7777777777777778, \"#fb9f3a\"], [0.8888888888888888, \"#fdca26\"], [1.0, \"#f0f921\"]], \"type\": \"heatmapgl\"}], \"histogram\": [{\"marker\": {\"colorbar\": {\"outlinewidth\": 0, \"ticks\": \"\"}}, \"type\": \"histogram\"}], \"histogram2d\": [{\"colorbar\": {\"outlinewidth\": 0, \"ticks\": \"\"}, \"colorscale\": [[0.0, \"#0d0887\"], [0.1111111111111111, \"#46039f\"], [0.2222222222222222, \"#7201a8\"], [0.3333333333333333, \"#9c179e\"], [0.4444444444444444, \"#bd3786\"], [0.5555555555555556, \"#d8576b\"], [0.6666666666666666, \"#ed7953\"], [0.7777777777777778, \"#fb9f3a\"], [0.8888888888888888, \"#fdca26\"], [1.0, \"#f0f921\"]], \"type\": \"histogram2d\"}], \"histogram2dcontour\": [{\"colorbar\": {\"outlinewidth\": 0, \"ticks\": \"\"}, \"colorscale\": [[0.0, \"#0d0887\"], [0.1111111111111111, \"#46039f\"], [0.2222222222222222, \"#7201a8\"], [0.3333333333333333, \"#9c179e\"], [0.4444444444444444, \"#bd3786\"], [0.5555555555555556, \"#d8576b\"], [0.6666666666666666, \"#ed7953\"], [0.7777777777777778, \"#fb9f3a\"], [0.8888888888888888, \"#fdca26\"], [1.0, \"#f0f921\"]], \"type\": \"histogram2dcontour\"}], \"mesh3d\": [{\"colorbar\": {\"outlinewidth\": 0, \"ticks\": \"\"}, \"type\": \"mesh3d\"}], \"parcoords\": [{\"line\": {\"colorbar\": {\"outlinewidth\": 0, \"ticks\": \"\"}}, \"type\": \"parcoords\"}], \"pie\": [{\"automargin\": true, \"type\": \"pie\"}], \"scatter\": [{\"marker\": {\"colorbar\": {\"outlinewidth\": 0, \"ticks\": \"\"}}, \"type\": \"scatter\"}], \"scatter3d\": [{\"line\": {\"colorbar\": {\"outlinewidth\": 0, \"ticks\": \"\"}}, \"marker\": {\"colorbar\": {\"outlinewidth\": 0, \"ticks\": \"\"}}, \"type\": \"scatter3d\"}], \"scattercarpet\": [{\"marker\": {\"colorbar\": {\"outlinewidth\": 0, \"ticks\": \"\"}}, \"type\": \"scattercarpet\"}], \"scattergeo\": [{\"marker\": {\"colorbar\": {\"outlinewidth\": 0, \"ticks\": \"\"}}, \"type\": \"scattergeo\"}], \"scattergl\": [{\"marker\": {\"colorbar\": {\"outlinewidth\": 0, \"ticks\": \"\"}}, \"type\": \"scattergl\"}], \"scattermapbox\": [{\"marker\": {\"colorbar\": {\"outlinewidth\": 0, \"ticks\": \"\"}}, \"type\": \"scattermapbox\"}], \"scatterpolar\": [{\"marker\": {\"colorbar\": {\"outlinewidth\": 0, \"ticks\": \"\"}}, \"type\": \"scatterpolar\"}], \"scatterpolargl\": [{\"marker\": {\"colorbar\": {\"outlinewidth\": 0, \"ticks\": \"\"}}, \"type\": \"scatterpolargl\"}], \"scatterternary\": [{\"marker\": {\"colorbar\": {\"outlinewidth\": 0, \"ticks\": \"\"}}, \"type\": \"scatterternary\"}], \"surface\": [{\"colorbar\": {\"outlinewidth\": 0, \"ticks\": \"\"}, \"colorscale\": [[0.0, \"#0d0887\"], [0.1111111111111111, \"#46039f\"], [0.2222222222222222, \"#7201a8\"], [0.3333333333333333, \"#9c179e\"], [0.4444444444444444, \"#bd3786\"], [0.5555555555555556, \"#d8576b\"], [0.6666666666666666, \"#ed7953\"], [0.7777777777777778, \"#fb9f3a\"], [0.8888888888888888, \"#fdca26\"], [1.0, \"#f0f921\"]], \"type\": \"surface\"}], \"table\": [{\"cells\": {\"fill\": {\"color\": \"#EBF0F8\"}, \"line\": {\"color\": \"white\"}}, \"header\": {\"fill\": {\"color\": \"#C8D4E3\"}, \"line\": {\"color\": \"white\"}}, \"type\": \"table\"}]}, \"layout\": {\"annotationdefaults\": {\"arrowcolor\": \"#2a3f5f\", \"arrowhead\": 0, \"arrowwidth\": 1}, \"coloraxis\": {\"colorbar\": {\"outlinewidth\": 0, \"ticks\": \"\"}}, \"colorscale\": {\"diverging\": [[0, \"#8e0152\"], [0.1, \"#c51b7d\"], [0.2, \"#de77ae\"], [0.3, \"#f1b6da\"], [0.4, \"#fde0ef\"], [0.5, \"#f7f7f7\"], [0.6, \"#e6f5d0\"], [0.7, \"#b8e186\"], [0.8, \"#7fbc41\"], [0.9, \"#4d9221\"], [1, \"#276419\"]], \"sequential\": [[0.0, \"#0d0887\"], [0.1111111111111111, \"#46039f\"], [0.2222222222222222, \"#7201a8\"], [0.3333333333333333, \"#9c179e\"], [0.4444444444444444, \"#bd3786\"], [0.5555555555555556, \"#d8576b\"], [0.6666666666666666, \"#ed7953\"], [0.7777777777777778, \"#fb9f3a\"], [0.8888888888888888, \"#fdca26\"], [1.0, \"#f0f921\"]], \"sequentialminus\": [[0.0, \"#0d0887\"], [0.1111111111111111, \"#46039f\"], [0.2222222222222222, \"#7201a8\"], [0.3333333333333333, \"#9c179e\"], [0.4444444444444444, \"#bd3786\"], [0.5555555555555556, \"#d8576b\"], [0.6666666666666666, \"#ed7953\"], [0.7777777777777778, \"#fb9f3a\"], [0.8888888888888888, \"#fdca26\"], [1.0, \"#f0f921\"]]}, \"colorway\": [\"#636efa\", \"#EF553B\", \"#00cc96\", \"#ab63fa\", \"#FFA15A\", \"#19d3f3\", \"#FF6692\", \"#B6E880\", \"#FF97FF\", \"#FECB52\"], \"font\": {\"color\": \"#2a3f5f\"}, \"geo\": {\"bgcolor\": \"white\", \"lakecolor\": \"white\", \"landcolor\": \"#E5ECF6\", \"showlakes\": true, \"showland\": true, \"subunitcolor\": \"white\"}, \"hoverlabel\": {\"align\": \"left\"}, \"hovermode\": \"closest\", \"mapbox\": {\"style\": \"light\"}, \"paper_bgcolor\": \"white\", \"plot_bgcolor\": \"#E5ECF6\", \"polar\": {\"angularaxis\": {\"gridcolor\": \"white\", \"linecolor\": \"white\", \"ticks\": \"\"}, \"bgcolor\": \"#E5ECF6\", \"radialaxis\": {\"gridcolor\": \"white\", \"linecolor\": \"white\", \"ticks\": \"\"}}, \"scene\": {\"xaxis\": {\"backgroundcolor\": \"#E5ECF6\", \"gridcolor\": \"white\", \"gridwidth\": 2, \"linecolor\": \"white\", \"showbackground\": true, \"ticks\": \"\", \"zerolinecolor\": \"white\"}, \"yaxis\": {\"backgroundcolor\": \"#E5ECF6\", \"gridcolor\": \"white\", \"gridwidth\": 2, \"linecolor\": \"white\", \"showbackground\": true, \"ticks\": \"\", \"zerolinecolor\": \"white\"}, \"zaxis\": {\"backgroundcolor\": \"#E5ECF6\", \"gridcolor\": \"white\", \"gridwidth\": 2, \"linecolor\": \"white\", \"showbackground\": true, \"ticks\": \"\", \"zerolinecolor\": \"white\"}}, \"shapedefaults\": {\"line\": {\"color\": \"#2a3f5f\"}}, \"ternary\": {\"aaxis\": {\"gridcolor\": \"white\", \"linecolor\": \"white\", \"ticks\": \"\"}, \"baxis\": {\"gridcolor\": \"white\", \"linecolor\": \"white\", \"ticks\": \"\"}, \"bgcolor\": \"#E5ECF6\", \"caxis\": {\"gridcolor\": \"white\", \"linecolor\": \"white\", \"ticks\": \"\"}}, \"title\": {\"x\": 0.05}, \"xaxis\": {\"automargin\": true, \"gridcolor\": \"white\", \"linecolor\": \"white\", \"ticks\": \"\", \"title\": {\"standoff\": 15}, \"zerolinecolor\": \"white\", \"zerolinewidth\": 2}, \"yaxis\": {\"automargin\": true, \"gridcolor\": \"white\", \"linecolor\": \"white\", \"ticks\": \"\", \"title\": {\"standoff\": 15}, \"zerolinecolor\": \"white\", \"zerolinewidth\": 2}}}, \"title\": {\"text\": \"Total nodes: 63, max depth: 5, total/max/min/avgImg: 38115/1923/3/605\"}},\n",
       "                        {\"responsive\": true}\n",
       "                    ).then(function(){\n",
       "                            \n",
       "var gd = document.getElementById('898bcbb2-9d85-474c-baab-671d79ea2d20');\n",
       "var x = new MutationObserver(function (mutations, observer) {{\n",
       "        var display = window.getComputedStyle(gd).display;\n",
       "        if (!display || display === 'none') {{\n",
       "            console.log([gd, 'removed!']);\n",
       "            Plotly.purge(gd);\n",
       "            observer.disconnect();\n",
       "        }}\n",
       "}});\n",
       "\n",
       "// Listen for the removal of the full notebook cells\n",
       "var notebookContainer = gd.closest('#notebook-container');\n",
       "if (notebookContainer) {{\n",
       "    x.observe(notebookContainer, {childList: true});\n",
       "}}\n",
       "\n",
       "// Listen for the clearing of the current output cell\n",
       "var outputEl = gd.closest('.output');\n",
       "if (outputEl) {{\n",
       "    x.observe(outputEl, {childList: true});\n",
       "}}\n",
       "\n",
       "                        })\n",
       "                };\n",
       "                });\n",
       "            </script>\n",
       "        </div>"
      ]
     },
     "metadata": {},
     "output_type": "display_data"
    }
   ],
   "source": [
    "# http://image-net.org/explore \n",
    "node_interested = tree.find_node('beetle')\n",
    "children = tree.find_all_children(node_interested)\n",
    "parents = tree.find_parents(children)\n",
    "\n",
    "# Create dict\n",
    "\n",
    "\n",
    "n_children = len(children)\n",
    "max_d = tree.find_max_depth(node_interested)\n",
    "minImg = min([c.numImg for c in children])\n",
    "maxImg = max([c.numImg for c in children])\n",
    "totalImg = sum([c.numImg for c in children])\n",
    "avgImg = int(totalImg / n_children)\n",
    "\n",
    "fig = px.treemap(\n",
    "    names = [str(i) for i in children],\n",
    "    parents = [str(i) for i in parents],\n",
    "    values = [str(c.numImg) for c in children], \n",
    "    title = \"Total nodes: {}, max depth: {}, total/max/min/avgImg: {}/{}/{}/{}\".format(n_children, max_d, totalImg, maxImg, minImg, avgImg)\n",
    ")\n",
    "fig.show()"
   ]
  },
  {
   "cell_type": "code",
   "execution_count": 9,
   "metadata": {},
   "outputs": [],
   "source": [
    "import plotly.io as pio\n",
    "pio.write_html(fig, file='index.html', auto_open=True)"
   ]
  },
  {
   "cell_type": "code",
   "execution_count": null,
   "metadata": {},
   "outputs": [],
   "source": []
  }
 ],
 "metadata": {
  "kernelspec": {
   "display_name": "Python 3",
   "language": "python",
   "name": "python3"
  },
  "language_info": {
   "codemirror_mode": {
    "name": "ipython",
    "version": 3
   },
   "file_extension": ".py",
   "mimetype": "text/x-python",
   "name": "python",
   "nbconvert_exporter": "python",
   "pygments_lexer": "ipython3",
   "version": "3.7.3"
  }
 },
 "nbformat": 4,
 "nbformat_minor": 2
}
